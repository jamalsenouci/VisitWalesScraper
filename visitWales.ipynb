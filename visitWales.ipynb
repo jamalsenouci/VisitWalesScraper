{
 "metadata": {
  "name": "",
  "signature": "sha256:436836b1216a274752b7e8619c1feae808826dc0349c49f0afba187f3164de8d"
 },
 "nbformat": 3,
 "nbformat_minor": 0,
 "worksheets": [
  {
   "cells": [
    {
     "cell_type": "code",
     "collapsed": false,
     "input": [
      "#setup git repo\n",
      "with open('$HOME/oauth.txt') as f:\n",
      "    oauth=f.readlines()\n",
      "authenticate = 'https://api.github.com/?access_token='+oauth\n",
      "!curl authenticate\n",
      "\n",
      "#create new repo\n",
      "!curl https://api.github.com/user/repos?access_token=6a47480b6c0bdd1c4dd00f642d3b5df3883da3a9 -d '{\"name\":\"snowdonia-scrape\", \"description\":\"a scrapy crawler to get activities in Snowdonia listed on visitwales.com\"}'\n",
      "\n",
      "!git init\n",
      "!git remote add origin git@github.com:jamalsenouci/snowdonia-scrape.git"
     ],
     "language": "python",
     "metadata": {},
     "outputs": [
      {
       "ename": "IOError",
       "evalue": "[Errno 2] No such file or directory: '$HOME/oauth.txt'",
       "output_type": "pyerr",
       "traceback": [
        "\u001b[1;31m---------------------------------------------------------------------------\u001b[0m\n\u001b[1;31mIOError\u001b[0m                                   Traceback (most recent call last)",
        "\u001b[1;32m<ipython-input-1-7ab37f94f5a5>\u001b[0m in \u001b[0;36m<module>\u001b[1;34m()\u001b[0m\n\u001b[0;32m      1\u001b[0m \u001b[1;31m#setup git repo\u001b[0m\u001b[1;33m\u001b[0m\u001b[1;33m\u001b[0m\u001b[0m\n\u001b[1;32m----> 2\u001b[1;33m \u001b[1;32mwith\u001b[0m \u001b[0mopen\u001b[0m\u001b[1;33m(\u001b[0m\u001b[1;34m'$HOME/oauth.txt'\u001b[0m\u001b[1;33m)\u001b[0m \u001b[1;32mas\u001b[0m \u001b[0mf\u001b[0m\u001b[1;33m:\u001b[0m\u001b[1;33m\u001b[0m\u001b[0m\n\u001b[0m\u001b[0;32m      3\u001b[0m     \u001b[0moauth\u001b[0m\u001b[1;33m=\u001b[0m\u001b[0mf\u001b[0m\u001b[1;33m.\u001b[0m\u001b[0mreadlines\u001b[0m\u001b[1;33m(\u001b[0m\u001b[1;33m)\u001b[0m\u001b[1;33m\u001b[0m\u001b[0m\n\u001b[0;32m      4\u001b[0m \u001b[0mauthenticate\u001b[0m \u001b[1;33m=\u001b[0m \u001b[1;34m'https://api.github.com/?access_token='\u001b[0m\u001b[1;33m+\u001b[0m\u001b[0moauth\u001b[0m\u001b[1;33m\u001b[0m\u001b[0m\n\u001b[0;32m      5\u001b[0m \u001b[0mget_ipython\u001b[0m\u001b[1;33m(\u001b[0m\u001b[1;33m)\u001b[0m\u001b[1;33m.\u001b[0m\u001b[0msystem\u001b[0m\u001b[1;33m(\u001b[0m\u001b[1;34mu'curl authenticate'\u001b[0m\u001b[1;33m)\u001b[0m\u001b[1;33m\u001b[0m\u001b[0m\n",
        "\u001b[1;31mIOError\u001b[0m: [Errno 2] No such file or directory: '$HOME/oauth.txt'"
       ]
      }
     ],
     "prompt_number": 1
    },
    {
     "cell_type": "code",
     "collapsed": false,
     "input": [
      "#setup \n",
      "#!source activate py2.7 & conda install pandas scrapy\n",
      "!scrapy startproject visitWales\n",
      "!ls -R visitWales"
     ],
     "language": "python",
     "metadata": {},
     "outputs": []
    },
    {
     "cell_type": "code",
     "collapsed": false,
     "input": [
      "!git add .\n",
      "!git commit -m \"initial commit\"\n",
      "!git push origin master"
     ],
     "language": "python",
     "metadata": {},
     "outputs": []
    },
    {
     "cell_type": "code",
     "collapsed": false,
     "input": [
      "#create activity class to contain scraped data \n",
      "%%writefile visitWales/visitWales/items.py\n",
      "\n",
      "from scrapy.item import Item, Field\n",
      "\n",
      "class Activity(Item):\n",
      "    name = Field()\n",
      "    addr = Field()\n",
      "    site = Field()\n",
      "    tel = Field()\n",
      "    desc = Field()\n",
      "    catid = Field()\n",
      "    catname = Field()"
     ],
     "language": "python",
     "metadata": {},
     "outputs": []
    },
    {
     "cell_type": "code",
     "collapsed": false,
     "input": [
      "#main crawler\n",
      "%%writefile visitWales/visitWales/spiders/pages_spider.py\n",
      "\n",
      "import scrapy\n",
      "from scrapy.contrib.spiders import CrawlSpider, Rule\n",
      "from scrapy.contrib.linkextractors import LinkExtractor\n",
      "import re\n",
      "from visitWales.items import Activity\n",
      "\n",
      "base = \"http://www.visitwales.com/activity-search/activity-search-results?\\\n",
      "location=Snowdonia+Mountains+and+Coast&industry=Activities&radius=10&filterIds=\"\n",
      "\n",
      "#each category has one of the filter ids below\n",
      "filters = [ 'Index-101321143398%252c',\n",
      "            'Index-101321143728%252c',\n",
      "            'Index-101321143513%252c',\n",
      "            'Index-101321143401%252c',\n",
      "            'Index-101321143771%252c',\n",
      "            'Index-101321143392%252c',\n",
      "            'Index-1013211434034209%252c',\n",
      "            'Index-101321143402%252c',\n",
      "            'Index-101321143411%252c',\n",
      "            'Index-101520163302%252c',\n",
      "            'Index-101321173346%252c',\n",
      "            'Index-101520093023%252c',\n",
      "            'Index-101322143514%252c',\n",
      "            'Index-101322143512%252c',\n",
      "            'Index-101322143415%252c',\n",
      "            'Index-101322143417%252c',\n",
      "            'Index-101322143518%252c',\n",
      "            'Index-101322143418%252c',\n",
      "            'Index-101322143421%252c',\n",
      "            'Index-101322143420']\n",
      "\n",
      "sites = [base+filt for filt in filters]\n",
      "\n",
      "#the spider will crawl through each of the category pages and follow links to the activities, parsing only the activity pages\n",
      "class pagesSpider(CrawlSpider):\n",
      "    name = \"pages\"\n",
      "    download_delay = 2\n",
      "    allowed_domains = [\"visitwales.com\"]\n",
      "    start_urls = sites\n",
      "    rules = (Rule (LinkExtractor(restrict_xpaths=('//*[@id=\"next\"]',))),\n",
      "    Rule (LinkExtractor(restrict_xpaths=('//*[@id=\"mainform\"]/div[3]/div/div[1]/article/div/section/ul[2]/li/a[1]',))\n",
      "    , callback=\"parse_items\"),\n",
      "    )\n",
      "    \n",
      "    def parse_items(self, response):\n",
      "        item = Activity()\n",
      "        s = response.url\n",
      "        start = 'filterIds='\n",
      "        end = '&'\n",
      "        item['catid'] = [re.search('%s(.*?)%s' % (start, end), s).group(1)]\n",
      "        item['name'] = response.xpath('//*[@id=\"mainform\"]/div[3]/div/div[1]/section/h1/text()').extract()\n",
      "        item['addr'] = response.xpath('//*[@id=\"mainform\"]/div[3]/div/div[1]/section/h3/text()').extract()\n",
      "        item['tel'] = response.xpath('//*[@id=\"mainform\"]/div[3]/div/div[1]/section/ul/li[1]/span/text()').extract()\n",
      "        item['site'] = response.xpath('//*[@id=\"main_0_content_0_WebLink\"]/@href').extract()\n",
      "        item['desc'] = response.xpath('//*[@id=\"mainform\"]/div[3]/div/div[1]/article/div/section/div[1]/p/text()').extract()\n",
      "        yield item\n",
      "    \"\"\"        \n",
      "    def parse(self, response):\n",
      "        item = Activity()\n",
      "        s = response.url\n",
      "        item['catid'] = s.split('filterIds=')[1]\n",
      "        item['catname'] = response.xpath(\"//*[@checked='checked']/../label/text()\").extract()\n",
      "        yield item\n",
      "    \"\"\""
     ],
     "language": "python",
     "metadata": {},
     "outputs": []
    },
    {
     "cell_type": "code",
     "collapsed": false,
     "input": [
      "%%writefile visitWales/visitWales/spiders/cat_spider.py\n",
      "\n",
      "import scrapy\n",
      "from visitWales.items import Activity\n",
      "\n",
      "base = \"http://www.visitwales.com/activity-search/activity-search-results?\\\n",
      "location=Snowdonia+Mountains+and+Coast&industry=Activities&radius=10&filterIds=\"\n",
      "\n",
      "filters = [ 'Index-101321143398%252c',\n",
      "            'Index-101321143728%252c',\n",
      "            'Index-101321143513%252c',\n",
      "            'Index-101321143401%252c',\n",
      "            'Index-101321143771%252c',\n",
      "            'Index-101321143392%252c',\n",
      "            'Index-1013211434034209%252c',\n",
      "            'Index-101321143402%252c',\n",
      "            'Index-101321143411%252c',\n",
      "            'Index-101520163302%252c',\n",
      "            'Index-101321173346%252c',\n",
      "            'Index-101520093023%252c',\n",
      "            'Index-101322143514%252c',\n",
      "            'Index-101322143512%252c',\n",
      "            'Index-101322143415%252c',\n",
      "            'Index-101322143417%252c',\n",
      "            'Index-101322143518%252c',\n",
      "            'Index-101322143418%252c',\n",
      "            'Index-101322143421%252c',\n",
      "            'Index-101322143420']\n",
      "\n",
      "sites = [base+filt for filt in filters]\n",
      "\n",
      "\"\"\"\n",
      "this spider loops through the category pages, checking which category checkbox is checked \n",
      "and extracts the label text to match to the index\n",
      "\"\"\"\n",
      "class catSpider(scrapy.Spider):\n",
      "    name = \"cat\"\n",
      "    download_delay = 2\n",
      "    allowed_domains = [\"visitwales.com\"]\n",
      "    start_urls = sites\n",
      "    \n",
      "    def parse(self, response):\n",
      "        item = Activity()\n",
      "        s = response.url\n",
      "        item['catid'] = s.split('filterIds=')[1]\n",
      "        item['catname'] = response.xpath(\"//*[@checked='checked']/../label/text()\").extract()\n",
      "        yield item"
     ],
     "language": "python",
     "metadata": {},
     "outputs": [
      {
       "output_type": "stream",
       "stream": "stdout",
       "text": [
        "Overwriting visitWales/visitWales/spiders/cat_spider.py\n"
       ]
      }
     ],
     "prompt_number": 2
    },
    {
     "cell_type": "code",
     "collapsed": false,
     "input": [
      "#run the scrapers and save output as json\n",
      "! cd visitWales/; scrapy crawl pages -o pages.json\n",
      "! cd visitWales/; scrapy crawl cat -o cat.json"
     ],
     "language": "python",
     "metadata": {},
     "outputs": []
    },
    {
     "cell_type": "code",
     "collapsed": false,
     "input": [
      "! cd visitWales/; scrapy crawl cat -o cat.json"
     ],
     "language": "python",
     "metadata": {},
     "outputs": [
      {
       "output_type": "stream",
       "stream": "stdout",
       "text": [
        "/home/ubuntu/miniconda3/envs/py2.7/lib/python2.7/site-packages/twisted/internet/_sslverify.py:184: UserWarning: You do not have the service_identity module installed. Please install it from <https://pypi.python.org/pypi/service_identity>. Without the service_identity module and a recent enough pyOpenSSL tosupport it, Twisted can perform only rudimentary TLS client hostnameverification.  Many valid certificate/hostname mappings may be rejected.\r\n",
        "  verifyHostname, VerificationError = _selectVerifyImplementation()\r\n"
       ]
      },
      {
       "output_type": "stream",
       "stream": "stdout",
       "text": [
        "2014-12-15 16:54:45+0000 [scrapy] INFO: Scrapy 0.24.4 started (bot: visitWales)\r\n",
        "2014-12-15 16:54:45+0000 [scrapy] INFO: Optional features available: ssl, http11\r\n",
        "2014-12-15 16:54:45+0000 [scrapy] INFO: Overridden settings: {'NEWSPIDER_MODULE': 'visitWales.spiders', 'FEED_FORMAT': 'json', 'SPIDER_MODULES': ['visitWales.spiders'], 'FEED_URI': 'cat.json', 'BOT_NAME': 'visitWales'}\r\n"
       ]
      },
      {
       "output_type": "stream",
       "stream": "stdout",
       "text": [
        "2014-12-15 16:54:45+0000 [scrapy] INFO: Enabled extensions: FeedExporter, LogStats, TelnetConsole, CloseSpider, WebService, CoreStats, SpiderState\r\n"
       ]
      },
      {
       "output_type": "stream",
       "stream": "stdout",
       "text": [
        "2014-12-15 16:54:46+0000 [scrapy] INFO: Enabled downloader middlewares: HttpAuthMiddleware, DownloadTimeoutMiddleware, UserAgentMiddleware, RetryMiddleware, DefaultHeadersMiddleware, MetaRefreshMiddleware, HttpCompressionMiddleware, RedirectMiddleware, CookiesMiddleware, ChunkedTransferMiddleware, DownloaderStats\r\n",
        "2014-12-15 16:54:46+0000 [scrapy] INFO: Enabled spider middlewares: HttpErrorMiddleware, OffsiteMiddleware, RefererMiddleware, UrlLengthMiddleware, DepthMiddleware\r\n",
        "2014-12-15 16:54:46+0000 [scrapy] INFO: Enabled item pipelines: \r\n",
        "2014-12-15 16:54:46+0000 [cat] INFO: Spider opened\r\n",
        "2014-12-15 16:54:46+0000 [cat] INFO: Crawled 0 pages (at 0 pages/min), scraped 0 items (at 0 items/min)\r\n",
        "2014-12-15 16:54:46+0000 [scrapy] DEBUG: Telnet console listening on 127.0.0.1:6023\r\n",
        "2014-12-15 16:54:46+0000 [scrapy] DEBUG: Web service listening on 127.0.0.1:6080\r\n"
       ]
      },
      {
       "output_type": "stream",
       "stream": "stdout",
       "text": [
        "2014-12-15 16:54:46+0000 [cat] DEBUG: Crawled (200) <GET http://www.visitwales.com/activity-search/activity-search-results?location=Snowdonia+Mountains+and+Coast&industry=Activities&radius=10&filterIds=Index-101321143398%252c> (referer: None)\r\n",
        "2014-12-15 16:54:46+0000 [cat] DEBUG: Scraped from <200 http://www.visitwales.com/activity-search/activity-search-results?location=Snowdonia+Mountains+and+Coast&industry=Activities&radius=10&filterIds=Index-101321143398%252c>\r\n",
        "\t{'catid': 'Index-101321143398%252c',\r\n",
        "\t 'catname': [u'Abseiling, Climbing & Mountaineering', u'Water Sports']}\r\n"
       ]
      },
      {
       "output_type": "stream",
       "stream": "stdout",
       "text": [
        "2014-12-15 16:54:47+0000 [cat] DEBUG: Crawled (200) <GET http://www.visitwales.com/activity-search/activity-search-results?location=Snowdonia+Mountains+and+Coast&industry=Activities&radius=10&filterIds=Index-101321143728%252c> (referer: None)\r\n",
        "2014-12-15 16:54:47+0000 [cat] DEBUG: Scraped from <200 http://www.visitwales.com/activity-search/activity-search-results?location=Snowdonia+Mountains+and+Coast&industry=Activities&radius=10&filterIds=Index-101321143728%252c>\r\n",
        "\t{'catid': 'Index-101321143728%252c',\r\n",
        "\t 'catname': [u'Adventure Sports', u'Water Sports']}\r\n"
       ]
      },
      {
       "output_type": "stream",
       "stream": "stdout",
       "text": [
        "2014-12-15 16:54:50+0000 [cat] DEBUG: Crawled (200) <GET http://www.visitwales.com/activity-search/activity-search-results?location=Snowdonia+Mountains+and+Coast&industry=Activities&radius=10&filterIds=Index-101321143513%252c> (referer: None)\r\n"
       ]
      },
      {
       "output_type": "stream",
       "stream": "stdout",
       "text": [
        "2014-12-15 16:54:50+0000 [cat] DEBUG: Scraped from <200 http://www.visitwales.com/activity-search/activity-search-results?location=Snowdonia+Mountains+and+Coast&industry=Activities&radius=10&filterIds=Index-101321143513%252c>\r\n",
        "\t{'catid': 'Index-101321143513%252c',\r\n",
        "\t 'catname': [u'Adventure Sports', u'Water Sports']}\r\n"
       ]
      },
      {
       "output_type": "stream",
       "stream": "stdout",
       "text": [
        "2014-12-15 16:54:52+0000 [cat] DEBUG: Crawled (200) <GET http://www.visitwales.com/activity-search/activity-search-results?location=Snowdonia+Mountains+and+Coast&industry=Activities&radius=10&filterIds=Index-101321143401%252c> (referer: None)\r\n",
        "2014-12-15 16:54:52+0000 [cat] DEBUG: Scraped from <200 http://www.visitwales.com/activity-search/activity-search-results?location=Snowdonia+Mountains+and+Coast&industry=Activities&radius=10&filterIds=Index-101321143401%252c>\r\n",
        "\t{'catid': 'Index-101321143401%252c',\r\n",
        "\t 'catname': [u'Cycling & Mountain Biking', u'Water Sports']}\r\n"
       ]
      },
      {
       "output_type": "stream",
       "stream": "stdout",
       "text": [
        "2014-12-15 16:54:55+0000 [cat] DEBUG: Crawled (200) <GET http://www.visitwales.com/activity-search/activity-search-results?location=Snowdonia+Mountains+and+Coast&industry=Activities&radius=10&filterIds=Index-101321143771%252c> (referer: None)\r\n",
        "2014-12-15 16:54:55+0000 [cat] DEBUG: Scraped from <200 http://www.visitwales.com/activity-search/activity-search-results?location=Snowdonia+Mountains+and+Coast&industry=Activities&radius=10&filterIds=Index-101321143771%252c>\r\n",
        "\t{'catid': 'Index-101321143771%252c', 'catname': [u'Fishing', u'Water Sports']}\r\n"
       ]
      },
      {
       "output_type": "stream",
       "stream": "stdout",
       "text": [
        "2014-12-15 16:54:58+0000 [cat] DEBUG: Crawled (200) <GET http://www.visitwales.com/activity-search/activity-search-results?location=Snowdonia+Mountains+and+Coast&industry=Activities&radius=10&filterIds=Index-101321143392%252c> (referer: None)\r\n",
        "2014-12-15 16:54:58+0000 [cat] DEBUG: Scraped from <200 http://www.visitwales.com/activity-search/activity-search-results?location=Snowdonia+Mountains+and+Coast&industry=Activities&radius=10&filterIds=Index-101321143392%252c>\r\n",
        "\t{'catid': 'Index-101321143392%252c',\r\n",
        "\t 'catname': [u'Gliding, Ballooning & Skydiving', u'Water Sports']}\r\n"
       ]
      },
      {
       "output_type": "stream",
       "stream": "stdout",
       "text": [
        "2014-12-15 16:55:00+0000 [cat] DEBUG: Crawled (200) <GET http://www.visitwales.com/activity-search/activity-search-results?location=Snowdonia+Mountains+and+Coast&industry=Activities&radius=10&filterIds=Index-1013211434034209%252c> (referer: None)\r\n"
       ]
      },
      {
       "output_type": "stream",
       "stream": "stdout",
       "text": [
        "2014-12-15 16:55:00+0000 [cat] DEBUG: Scraped from <200 http://www.visitwales.com/activity-search/activity-search-results?location=Snowdonia+Mountains+and+Coast&industry=Activities&radius=10&filterIds=Index-1013211434034209%252c>\r\n",
        "\t{'catid': 'Index-1013211434034209%252c', 'catname': [u'Golf', u'Water Sports']}\r\n"
       ]
      },
      {
       "output_type": "stream",
       "stream": "stdout",
       "text": [
        "2014-12-15 16:55:02+0000 [cat] DEBUG: Crawled (200) <GET http://www.visitwales.com/activity-search/activity-search-results?location=Snowdonia+Mountains+and+Coast&industry=Activities&radius=10&filterIds=Index-101321143402%252c> (referer: None)\r\n",
        "2014-12-15 16:55:03+0000 [cat] DEBUG: Scraped from <200 http://www.visitwales.com/activity-search/activity-search-results?location=Snowdonia+Mountains+and+Coast&industry=Activities&radius=10&filterIds=Index-101321143402%252c>\r\n",
        "\t{'catid': 'Index-101321143402%252c',\r\n",
        "\t 'catname': [u'Horse Riding', u'Water Sports']}\r\n"
       ]
      },
      {
       "output_type": "stream",
       "stream": "stdout",
       "text": [
        "2014-12-15 16:55:05+0000 [cat] DEBUG: Crawled (200) <GET http://www.visitwales.com/activity-search/activity-search-results?location=Snowdonia+Mountains+and+Coast&industry=Activities&radius=10&filterIds=Index-101321143411%252c> (referer: None)\r\n",
        "2014-12-15 16:55:05+0000 [cat] DEBUG: Scraped from <200 http://www.visitwales.com/activity-search/activity-search-results?location=Snowdonia+Mountains+and+Coast&industry=Activities&radius=10&filterIds=Index-101321143411%252c>\r\n",
        "\t{'catid': 'Index-101321143411%252c',\r\n",
        "\t 'catname': [u'Motor Sports', u'Water Sports']}\r\n"
       ]
      },
      {
       "output_type": "stream",
       "stream": "stdout",
       "text": [
        "2014-12-15 16:55:08+0000 [cat] DEBUG: Crawled (200) <GET http://www.visitwales.com/activity-search/activity-search-results?location=Snowdonia+Mountains+and+Coast&industry=Activities&radius=10&filterIds=Index-101520163302%252c> (referer: None)\r\n",
        "2014-12-15 16:55:08+0000 [cat] DEBUG: Scraped from <200 http://www.visitwales.com/activity-search/activity-search-results?location=Snowdonia+Mountains+and+Coast&industry=Activities&radius=10&filterIds=Index-101520163302%252c>\r\n",
        "\t{'catid': 'Index-101520163302%252c',\r\n",
        "\t 'catname': [u'Tours & Sightseeing', u'Water Sports']}\r\n"
       ]
      },
      {
       "output_type": "stream",
       "stream": "stdout",
       "text": [
        "2014-12-15 16:55:10+0000 [cat] DEBUG: Crawled (200) <GET http://www.visitwales.com/activity-search/activity-search-results?location=Snowdonia+Mountains+and+Coast&industry=Activities&radius=10&filterIds=Index-101321173346%252c> (referer: None)\r\n",
        "2014-12-15 16:55:10+0000 [cat] DEBUG: Scraped from <200 http://www.visitwales.com/activity-search/activity-search-results?location=Snowdonia+Mountains+and+Coast&industry=Activities&radius=10&filterIds=Index-101321173346%252c>\r\n",
        "\t{'catid': 'Index-101321173346%252c',\r\n",
        "\t 'catname': [u'Walking & Hiking', u'Water Sports']}\r\n"
       ]
      },
      {
       "output_type": "stream",
       "stream": "stdout",
       "text": [
        "2014-12-15 16:55:13+0000 [cat] DEBUG: Crawled (200) <GET http://www.visitwales.com/activity-search/activity-search-results?location=Snowdonia+Mountains+and+Coast&industry=Activities&radius=10&filterIds=Index-101520093023%252c> (referer: None)\r\n",
        "2014-12-15 16:55:13+0000 [cat] DEBUG: Scraped from <200 http://www.visitwales.com/activity-search/activity-search-results?location=Snowdonia+Mountains+and+Coast&industry=Activities&radius=10&filterIds=Index-101520093023%252c>\r\n",
        "\t{'catid': 'Index-101520093023%252c',\r\n",
        "\t 'catname': [u'Water Sports', u'Boat Hire & Boat Trips']}\r\n"
       ]
      },
      {
       "output_type": "stream",
       "stream": "stdout",
       "text": [
        "2014-12-15 16:55:16+0000 [cat] DEBUG: Crawled (200) <GET http://www.visitwales.com/activity-search/activity-search-results?location=Snowdonia+Mountains+and+Coast&industry=Activities&radius=10&filterIds=Index-101322143514%252c> (referer: None)\r\n",
        "2014-12-15 16:55:16+0000 [cat] DEBUG: Scraped from <200 http://www.visitwales.com/activity-search/activity-search-results?location=Snowdonia+Mountains+and+Coast&industry=Activities&radius=10&filterIds=Index-101322143514%252c>\r\n",
        "\t{'catid': 'Index-101322143514%252c',\r\n",
        "\t 'catname': [u'Water Sports', u'Canoeing & Kayaking']}\r\n"
       ]
      },
      {
       "output_type": "stream",
       "stream": "stdout",
       "text": [
        "2014-12-15 16:55:18+0000 [cat] DEBUG: Crawled (200) <GET http://www.visitwales.com/activity-search/activity-search-results?location=Snowdonia+Mountains+and+Coast&industry=Activities&radius=10&filterIds=Index-101322143512%252c> (referer: None)\r\n"
       ]
      },
      {
       "output_type": "stream",
       "stream": "stdout",
       "text": [
        "2014-12-15 16:55:18+0000 [cat] DEBUG: Scraped from <200 http://www.visitwales.com/activity-search/activity-search-results?location=Snowdonia+Mountains+and+Coast&industry=Activities&radius=10&filterIds=Index-101322143512%252c>\r\n",
        "\t{'catid': 'Index-101322143512%252c',\r\n",
        "\t 'catname': [u'Water Sports', u'Diving & Swimming']}\r\n"
       ]
      },
      {
       "output_type": "stream",
       "stream": "stdout",
       "text": [
        "2014-12-15 16:55:20+0000 [cat] DEBUG: Crawled (200) <GET http://www.visitwales.com/activity-search/activity-search-results?location=Snowdonia+Mountains+and+Coast&industry=Activities&radius=10&filterIds=Index-101322143415%252c> (referer: None)\r\n",
        "2014-12-15 16:55:20+0000 [cat] DEBUG: Scraped from <200 http://www.visitwales.com/activity-search/activity-search-results?location=Snowdonia+Mountains+and+Coast&industry=Activities&radius=10&filterIds=Index-101322143415%252c>\r\n",
        "\t{'catid': 'Index-101322143415%252c',\r\n",
        "\t 'catname': [u'Water Sports', u'Power Boating']}\r\n"
       ]
      },
      {
       "output_type": "stream",
       "stream": "stdout",
       "text": [
        "2014-12-15 16:55:22+0000 [cat] DEBUG: Crawled (200) <GET http://www.visitwales.com/activity-search/activity-search-results?location=Snowdonia+Mountains+and+Coast&industry=Activities&radius=10&filterIds=Index-101322143417%252c> (referer: None)\r\n",
        "2014-12-15 16:55:22+0000 [cat] DEBUG: Scraped from <200 http://www.visitwales.com/activity-search/activity-search-results?location=Snowdonia+Mountains+and+Coast&industry=Activities&radius=10&filterIds=Index-101322143417%252c>\r\n",
        "\t{'catid': 'Index-101322143417%252c', 'catname': [u'Water Sports', u'Rafting']}\r\n"
       ]
      },
      {
       "output_type": "stream",
       "stream": "stdout",
       "text": [
        "2014-12-15 16:55:25+0000 [cat] DEBUG: Crawled (200) <GET http://www.visitwales.com/activity-search/activity-search-results?location=Snowdonia+Mountains+and+Coast&industry=Activities&radius=10&filterIds=Index-101322143518%252c> (referer: None)\r\n",
        "2014-12-15 16:55:25+0000 [cat] DEBUG: Scraped from <200 http://www.visitwales.com/activity-search/activity-search-results?location=Snowdonia+Mountains+and+Coast&industry=Activities&radius=10&filterIds=Index-101322143518%252c>\r\n",
        "\t{'catid': 'Index-101322143518%252c', 'catname': [u'Water Sports', u'Sailing']}\r\n"
       ]
      },
      {
       "output_type": "stream",
       "stream": "stdout",
       "text": [
        "2014-12-15 16:55:27+0000 [cat] DEBUG: Crawled (200) <GET http://www.visitwales.com/activity-search/activity-search-results?location=Snowdonia+Mountains+and+Coast&industry=Activities&radius=10&filterIds=Index-101322143418%252c> (referer: None)\r\n",
        "2014-12-15 16:55:27+0000 [cat] DEBUG: Scraped from <200 http://www.visitwales.com/activity-search/activity-search-results?location=Snowdonia+Mountains+and+Coast&industry=Activities&radius=10&filterIds=Index-101322143418%252c>\r\n",
        "\t{'catid': 'Index-101322143418%252c', 'catname': [u'Water Sports', u'Surfing']}\r\n"
       ]
      },
      {
       "output_type": "stream",
       "stream": "stdout",
       "text": [
        "2014-12-15 16:55:30+0000 [cat] DEBUG: Crawled (200) <GET http://www.visitwales.com/activity-search/activity-search-results?location=Snowdonia+Mountains+and+Coast&industry=Activities&radius=10&filterIds=Index-101322143421%252c> (referer: None)\r\n",
        "2014-12-15 16:55:30+0000 [cat] DEBUG: Scraped from <200 http://www.visitwales.com/activity-search/activity-search-results?location=Snowdonia+Mountains+and+Coast&industry=Activities&radius=10&filterIds=Index-101322143421%252c>\r\n",
        "\t{'catid': 'Index-101322143421%252c',\r\n",
        "\t 'catname': [u'Water Sports', u'Water Skiing']}\r\n"
       ]
      },
      {
       "output_type": "stream",
       "stream": "stdout",
       "text": [
        "2014-12-15 16:55:33+0000 [cat] DEBUG: Crawled (200) <GET http://www.visitwales.com/activity-search/activity-search-results?location=Snowdonia+Mountains+and+Coast&industry=Activities&radius=10&filterIds=Index-101322143420> (referer: None)\r\n",
        "2014-12-15 16:55:33+0000 [cat] DEBUG: Scraped from <200 http://www.visitwales.com/activity-search/activity-search-results?location=Snowdonia+Mountains+and+Coast&industry=Activities&radius=10&filterIds=Index-101322143420>\r\n",
        "\t{'catid': 'Index-101322143420', 'catname': [u'Windsurfing']}\r\n",
        "2014-12-15 16:55:33+0000 [cat] INFO: Closing spider (finished)\r\n",
        "2014-12-15 16:55:33+0000 [cat] INFO: Stored json feed (20 items) in: cat.json\r\n",
        "2014-12-15 16:55:33+0000 [cat] INFO: Dumping Scrapy stats:\r\n",
        "\t{'downloader/request_bytes': 8055,\r\n",
        "\t 'downloader/request_count': 20,\r\n",
        "\t 'downloader/request_method_count/GET': 20,\r\n",
        "\t 'downloader/response_bytes': 461376,\r\n",
        "\t 'downloader/response_count': 20,\r\n",
        "\t 'downloader/response_status_count/200': 20,\r\n",
        "\t 'finish_reason': 'finished',\r\n",
        "\t 'finish_time': datetime.datetime(2014, 12, 15, 16, 55, 33, 82149),\r\n",
        "\t 'item_scraped_count': 20,\r\n",
        "\t 'log_count/DEBUG': 42,\r\n",
        "\t 'log_count/INFO': 8,\r\n",
        "\t 'response_received_count': 20,\r\n",
        "\t 'scheduler/dequeued': 20,\r\n",
        "\t 'scheduler/dequeued/memory': 20,\r\n",
        "\t 'scheduler/enqueued': 20,\r\n",
        "\t 'scheduler/enqueued/memory': 20,\r\n",
        "\t 'start_time': datetime.datetime(2014, 12, 15, 16, 54, 46, 45128)}\r\n",
        "2014-12-15 16:55:33+0000 [cat] INFO: Spider closed (finished)\r\n"
       ]
      }
     ],
     "prompt_number": 3
    },
    {
     "cell_type": "code",
     "collapsed": false,
     "input": [
      "\"\"\"\n",
      "from twisted.internet import reactor\n",
      "from scrapy.crawler import Crawler\n",
      "from scrapy import log, signals\n",
      "from visitWales.spiders import cat_spider\n",
      "from scrapy.utils.project import get_project_settings\n",
      "\n",
      "spider = FollowAllSpider(domain='scrapinghub.com')\n",
      "settings = get_project_settings()\n",
      "crawler = Crawler(settings)\n",
      "crawler.signals.connect(reactor.stop, signal=signals.spider_closed)\n",
      "crawler.configure()\n",
      "crawler.crawl(spider)\n",
      "crawler.start()\n",
      "log.start()\n",
      "reactor.run()\n",
      "\"\"\""
     ],
     "language": "python",
     "metadata": {},
     "outputs": []
    },
    {
     "cell_type": "code",
     "collapsed": false,
     "input": [
      "import pandas as pd\n",
      "import json\n",
      "import re\n",
      "import urllib2\n",
      "\n",
      "#load the activities json into a dataframe\n",
      "data = json.load(open('visitWales/pages.json'))\n",
      "activities = pd.DataFrame(data)\n",
      "\n",
      "#load the categories json into a dataframe\n",
      "data = json.load(open('visitWales/cat.json'))\n",
      "categories = pd.DataFrame(data)\n",
      "\n",
      "#formatting for the json\n",
      "def format(x):\n",
      "    if len(x)==0:\n",
      "        x = ''\n",
      "    elif len(x)==1:\n",
      "        x = x[0]\n",
      "    else:\n",
      "        x = \"\".join(x)\n",
      "    regex = re.compile('[\\s{2,}]*\\r\\n[\\s{2,}]*')\n",
      "    return re.sub(regex,'', x)\n",
      "\n",
      "#apply the formatting to each cell\n",
      "activities = activities.applymap(lambda x: format(x))\n",
      "categories = categories.applymap(lambda x: format(x))\n",
      "\n",
      "#some bug adding watersports to every category, fix by removing string\n",
      "categories = categories.applymap(lambda x: x.replace('Water Sports', ''))\n",
      "\n",
      "#create a new category index \n",
      "categories['catId']=categories.index.values\n",
      "\n",
      "#join activities to categories\n",
      "activities = pd.merge(activities,categories)\n",
      "\n",
      "#drop the old id\n",
      "activities.drop('catid',axis=1)\n",
      "\n",
      "#rename columns\n",
      "activities.rename(columns={'catname':'Category', 'addr':'Address','name':'Name','desc':'Description', 'site':'Website','tel':'Telephone'}, inplace=True)"
     ],
     "language": "python",
     "metadata": {},
     "outputs": [],
     "prompt_number": 4
    },
    {
     "cell_type": "code",
     "collapsed": false,
     "input": [
      "#geocoding function\n",
      "import time\n",
      "def geocode(addr):\n",
      "    addr = addr.replace(' ', '+')\n",
      "    addrlist = addr.split(',')\n",
      "    #try and geocode full address, if fails then geocode approximate location\n",
      "    for i in range(len(addrlist)):\n",
      "        #api limits to 5 requests a second\n",
      "        time.sleep(1/5)\n",
      "        addr = \"\".join(addrlist[i:])\n",
      "        url=\"https://maps.googleapis.com/maps/api/geocode/json?address=%s\" % addr\n",
      "        response = urllib2.urlopen(url)\n",
      "        jsongeocode = json.loads(response.read())\n",
      "        try:\n",
      "            lat = jsongeocode['results'][0]['geometry']['location']['lat']\n",
      "            lng = jsongeocode['results'][0]['geometry']['location']['lng']\n",
      "            return lat, lng\n",
      "        except:\n",
      "            pass"
     ],
     "language": "python",
     "metadata": {},
     "outputs": [],
     "prompt_number": 2
    },
    {
     "cell_type": "code",
     "collapsed": false,
     "input": [
      "lat,lng = zip(*activities['Address'].map(geocode))\n",
      "activities['lat'] = lat \n",
      "activities['lng'] = lng"
     ],
     "language": "python",
     "metadata": {},
     "outputs": [],
     "prompt_number": 39
    },
    {
     "cell_type": "code",
     "collapsed": false,
     "input": [
      "geojson=[]\n",
      "for x in activities.index:\n",
      "    row = activities.ix[x,:]\n",
      "    feature={}\n",
      "    feature['type']=\"Feature\"\n",
      "    feature['geometry']={}\n",
      "    feature['geometry']['type']=\"Point\"\n",
      "    feature['geometry']['coordinates']= [row['lat'], row['lng']]\n",
      "    feature['properties']={}\n",
      "    feature['properties']['Address']=row['Address']\n",
      "    feature['properties']['Description']=row['Description']\n",
      "    feature['properties']['Name']=row['Name']\n",
      "    feature['properties']['Website']=row['Website']\n",
      "    feature['properties']['Telephone']=row['Telephone']\n",
      "    feature['properties']['Category']=row['Category']\n",
      "    geojson.append(feature)"
     ],
     "language": "python",
     "metadata": {},
     "outputs": [],
     "prompt_number": 40
    },
    {
     "cell_type": "code",
     "collapsed": false,
     "input": [
      "#export\n",
      "activities.to_json('visitWales/activities.json')\n",
      "activities.to_csv('visitWales/activities.csv', encoding='utf-8')\n",
      "with open('geojson.json', 'w') as f:\n",
      "    json.dump(geojson, f)"
     ],
     "language": "python",
     "metadata": {},
     "outputs": [],
     "prompt_number": 42
    },
    {
     "cell_type": "code",
     "collapsed": false,
     "input": [
      "#push to github\n",
      "!git add ."
     ],
     "language": "python",
     "metadata": {},
     "outputs": [],
     "prompt_number": 1
    },
    {
     "cell_type": "code",
     "collapsed": false,
     "input": [
      "!git commit -m \"initial commit\""
     ],
     "language": "python",
     "metadata": {},
     "outputs": [
      {
       "output_type": "stream",
       "stream": "stdout",
       "text": [
        "[master c324720] initial commit\r\n",
        " 1 file changed, 16 insertions(+), 16 deletions(-)\r\n"
       ]
      }
     ],
     "prompt_number": 2
    }
   ],
   "metadata": {}
  }
 ]
}